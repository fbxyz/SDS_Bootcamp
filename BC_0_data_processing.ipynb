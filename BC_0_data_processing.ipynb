{
 "cells": [
  {
   "cell_type": "markdown",
   "id": "d97f8d96-c58f-4611-a012-14299dcb4709",
   "metadata": {
    "editable": true,
    "slideshow": {
     "slide_type": "slide"
    },
    "tags": []
   },
   "source": [
    "# Leveraging Python for Spatial Data Science\n",
    "\n",
    "## [Spatial Data Science Bootcamp Paris](https://spatial-data-science-conference.com/bootcamps/2023/) October 26th, 2023\n",
    "\n",
    "[Florian Bayer](https://www.linkedin.com/in/florian-bayer-a4117b30/), PhD in Public Health, MSc in Geography\n",
    "\n",
    "Health geographer at Agence de la biomédecine, University lecturer at Paris Panthéon Sorbonne and ENSG"
   ]
  },
  {
   "cell_type": "markdown",
   "id": "8f21522b-8cab-49ad-b131-97484f40f9e5",
   "metadata": {
    "slideshow": {
     "slide_type": "slide"
    },
    "tags": []
   },
   "source": [
    "# Data processing"
   ]
  },
  {
   "cell_type": "code",
   "execution_count": 2,
   "id": "39d63149-3fa4-4a3f-a546-4fe753c46613",
   "metadata": {
    "ExecuteTime": {
     "end_time": "2023-10-12T12:41:37.502465611Z",
     "start_time": "2023-10-12T12:41:37.289707571Z"
    }
   },
   "outputs": [],
   "source": [
    "import pandas as pd\n",
    "import numpy as np\n",
    "import requests\n",
    "from zipfile import ZipFile\n",
    "import os"
   ]
  },
  {
   "cell_type": "code",
   "execution_count": 3,
   "id": "2a4a4314-4413-4649-88d5-aed4d41ad4da",
   "metadata": {
    "ExecuteTime": {
     "end_time": "2023-10-12T12:41:37.912343721Z",
     "start_time": "2023-10-12T12:41:37.908164594Z"
    }
   },
   "outputs": [],
   "source": [
    "url_doc = \"https://annuaire.sante.fr/web/site-pro/extractions-publiques?p_p_id=abonnementportlet_WAR_Inscriptionportlet_INSTANCE_gGMT6fhOPMYV&p_p_lifecycle=2&p_p_state=normal&p_p_mode=view&p_p_cacheability=cacheLevelPage&_abonnementportlet_WAR_Inscriptionportlet_INSTANCE_gGMT6fhOPMYV_nomFichier=PS_LibreAcces_202308300950.zip\"\n"
   ]
  },
  {
   "cell_type": "code",
   "execution_count": 4,
   "id": "3334fbe0-46a7-40a2-bf59-0a1c6a0c0e85",
   "metadata": {
    "ExecuteTime": {
     "end_time": "2023-10-12T12:41:45.083315581Z",
     "start_time": "2023-10-12T12:41:38.068149454Z"
    }
   },
   "outputs": [],
   "source": [
    "\n",
    "\n",
    "def get_data(url, tmp_dir='tmp', zipfile='data_bootcamp.zip', txtfile='PS_LibreAcces_Personne_activite_'):\n",
    "    \"\"\"\n",
    "    Download, extract, and process data from a given URL.\n",
    "\n",
    "    Args:\n",
    "        url (str): The URL of the data source.\n",
    "        tmp_dir (str, optional): The directory for extracting and verifying the ZIP file. Default is 'tmp'.\n",
    "        zipfile (str, optional): The name of the final zipfile. Default is 'data_bootcamp.zip'.\n",
    "        txtfile (str, optional): The prefix for text file names to select from the extracted ZIP archive.\n",
    "\n",
    "    Returns:\n",
    "        pd.DataFrame: A Pandas DataFrame containing processed data.\n",
    "\n",
    "    Example:\n",
    "        url_doc = 'https://example.com/data_bootcamp.zip'\n",
    "        perso_files = get_data(url_doc, tmp_dir='my_extraction_folder')\n",
    "\n",
    "    Detailed Steps:\n",
    "        1. Check if the specified 'zipfile' already exists in the 'tmp_dir' directory.\n",
    "        2. If 'zipfile' doesn't exist, download it from the provided 'url' and save it in the 'tmp_dir'.\n",
    "        3. Extract the contents of the 'zipfile' in the 'tmp_dir' and look for text files with filenames starting with 'txtfile'.\n",
    "        4. Read the selected text file(s) into a Pandas DataFrame, using specified column data types ('dtypes').\n",
    "        5. Return the resulting Pandas DataFrame containing the processed data.\n",
    "\n",
    "    Note:\n",
    "        The 'txtfile' parameter is used to filter and select specific text files from the extracted ZIP archive\n",
    "        based on their filenames.\n",
    "\n",
    "    \"\"\"\n",
    "    if not os.path.exists(tmp_dir):\n",
    "        os.makedirs(tmp_dir)\n",
    "\n",
    "    zip_path = os.path.join(tmp_dir, zipfile)\n",
    "\n",
    "    if not os.path.exists(zip_path):\n",
    "        print(\"Downloading data\")\n",
    "        response = requests.get(url)\n",
    "        if response.status_code == 200:\n",
    "            with open(zip_path, \"wb\") as f:\n",
    "                f.write(response.content)\n",
    "        else:\n",
    "            print(\"Error during download:\", response.status_code)\n",
    "            return\n",
    "\n",
    "    dtypes = {'Identification nationale PP': 'object',\n",
    "              \"Nom d'exercice\": 'object',\n",
    "              \"Prénom d'exercice\": 'object',\n",
    "              'Code savoir-faire': 'object',\n",
    "              'Libellé savoir-faire': 'category',\n",
    "              'Code mode exercice': 'category',\n",
    "              'Libellé mode exercice': 'category',\n",
    "              'Raison sociale site': 'object',\n",
    "              'Numéro Voie (coord. structure)': 'object',\n",
    "              'Indice répétition voie (coord. structure)': 'object',\n",
    "              'Libellé type de voie (coord. structure)': 'object',\n",
    "              'Libellé Voie (coord. structure)': 'object',\n",
    "              'Bureau cedex (coord. structure)': 'object',\n",
    "              'Code postal (coord. structure)': 'object',\n",
    "              'Code commune (coord. structure)': 'object',\n",
    "              \"Code secteur d'activité\": 'category'}\n",
    "\n",
    "    cols = list(dtypes.keys())\n",
    "\n",
    "    z = ZipFile(zip_path)\n",
    "\n",
    "    for txt in z.infolist():\n",
    "        if txt.filename.startswith(txtfile):\n",
    "            df = pd.read_csv(z.open(txt.filename), sep='|', usecols=cols, dtype=dtypes)\n",
    "\n",
    "    return df\n",
    "\n",
    "data_dir = \"data\"\n",
    "perso_files = get_data(url_doc, tmp_dir=data_dir, zipfile='data_bootcamp.zip')\n"
   ]
  },
  {
   "cell_type": "markdown",
   "id": "006fbb41-4cb7-4e5a-b73b-d5b0533c2cda",
   "metadata": {},
   "source": [
    "Since some departments (states) codes are not filled, we fill them based on the municipality codes or postal codes"
   ]
  },
  {
   "cell_type": "code",
   "execution_count": 5,
   "id": "45514e31-a699-46b7-9027-259322cecb77",
   "metadata": {
    "ExecuteTime": {
     "end_time": "2023-10-12T12:41:46.742744873Z",
     "start_time": "2023-10-12T12:41:46.204835744Z"
    }
   },
   "outputs": [],
   "source": [
    "perso_files['state'] = perso_files['Code commune (coord. structure)'].str[:2]\n",
    "perso_files['state'] = np.where(perso_files['state']==np.nan, perso_files['Code postal (coord. structure)'].str[:2], perso_files['state'] )\n",
    "perso_files['state'] = perso_files['state'].astype(\"object\")"
   ]
  },
  {
   "cell_type": "markdown",
   "id": "d452ab8b-7f81-4005-b80c-fce48cc43d05",
   "metadata": {},
   "source": [
    "We only retain self-employed general practitioners or those working in a healthcare center. Paris and its suburbs are also filtered."
   ]
  },
  {
   "cell_type": "code",
   "execution_count": 6,
   "id": "aa9ef0c7-de83-4263-b974-38759e3a9ae3",
   "metadata": {
    "ExecuteTime": {
     "end_time": "2023-10-12T12:41:47.075021941Z",
     "start_time": "2023-10-12T12:41:46.782553140Z"
    }
   },
   "outputs": [],
   "source": [
    "list_gen = ['SM26','SM53','SM54'] # general practitioners\n",
    "list_act = ['SA05','SA07','SA08','SA52'] # self-employed or healthcare center.\n",
    "list_state = ['75','77','78','91','92','93','94','95']\n",
    "list_airport = [\"CTRE SOINS PREVENTION AEROPORTS PARIS\", \"ORLY SUD 103\"]\n",
    "list_badaddress = ['810001593259'] \n",
    "\n",
    "general = perso_files.loc[(perso_files['Code savoir-faire'].isin(list_gen)) \n",
    "                          & (perso_files[\"Code secteur d'activité\"].isin(list_act))\n",
    "                          & (perso_files[\"state\"].isin(list_state))\n",
    "                          & (~perso_files[\"Raison sociale site\"].isin(list_airport))\n",
    "                          & (~perso_files[\"Libellé Voie (coord. structure)\"].isin(list_airport))\n",
    "                          & (~perso_files[\"Libellé Voie (coord. structure)\"].isnull())\n",
    "                          & (~perso_files[\"Identification nationale PP\"].isin(list_badaddress))\n",
    "                         ].copy()\n"
   ]
  },
  {
   "cell_type": "markdown",
   "id": "9fb54230-5e59-4bae-9edd-a56483e144e2",
   "metadata": {},
   "source": [
    "Some data corrections to improved geocoding"
   ]
  },
  {
   "cell_type": "code",
   "execution_count": 7,
   "id": "87323c0c-db0f-441e-8e59-9496787fba28",
   "metadata": {
    "ExecuteTime": {
     "end_time": "2023-10-12T12:41:47.090518542Z",
     "start_time": "2023-10-12T12:41:47.078165179Z"
    }
   },
   "outputs": [],
   "source": [
    "general['Bureau cedex (coord. structure)'] = general['Bureau cedex (coord. structure)'].replace('94210 LA VARENNE ST HILAIRE', '94210 SAINT-MAUR-DES-FOSSÉS')\n",
    "\n",
    "newstreets = {\n",
    "    'AVENUE HECTOR BERLIOZ' : 'AVENUE BERLIOZ',\n",
    "    'PLACE DES MARTYRS DE' : \"Place des Martyrs de l'Occupation Allemande\",\n",
    "    'RUE PRIMO LEVI' :  \"Rue Primo Levi, L'Étoile\",\n",
    "    'DES DEUX GARES - LAC RUME' : \"du Lac\",\n",
    "    \"DE L AUVERGNE\" : \"d'Auvergne\",\n",
    "    \"CLINIQUE DU BLANC MESNIL\" : \"7 Avenue Henri Barbusse\",\n",
    "    \"RUE LOUIS RENE VILLERME\" : \"Place des Droits de l'Homme\",\n",
    "    \"ROUTE DEPARTEMENTALE 316\" : \"Allée de la Poire Bezy de Chaumontel\",\n",
    "    \"RUE DU GENERAL DE GAULLE\" : \"Rue Charles de Gaulle\",\n",
    "    \"RUE DE LONGJUMEAU\" : \"Chemin des Grands Champs\",\n",
    "    \"ROUTE DE GIRONVILLE\" : \"RUE DE GIRONVILLE\",\n",
    "    \"ZONE DE LA PETITE ARCHE\" : \"Avenue Jacques Chirac\",\n",
    "    \"CHEMIN DU VEXIN\" : \"Allée de la Brie\",\n",
    "    \"PLACE  HENRI DUNANT\" : \"Chaussee Saint Vincent\",\n",
    "    \"PLACE HENRI DUNANT\" : \"Chaussee Saint Vincent\",\n",
    "    \"ALLEE JEAN MARC FRESC\" : \"Rue du Moulin\"\n",
    "}\n",
    "\n",
    "general.replace({'Libellé Voie (coord. structure)' : newstreets}, inplace=True)\n",
    "\n",
    "general['Libellé Voie (coord. structure)'] = np.where(general[\"Identification nationale PP\"]=='810100275345', \"Rue de Pontoise\", general['Libellé Voie (coord. structure)'])\n",
    "general['Bureau cedex (coord. structure)'] = np.where(general[\"Identification nationale PP\"]=='810000769223', \"78551 Saint-Germain-en-Laye\", general['Bureau cedex (coord. structure)'])\n",
    "\n",
    "\n"
   ]
  },
  {
   "cell_type": "markdown",
   "id": "98381537-3921-4a47-8a28-04a3380d131c",
   "metadata": {},
   "source": [
    "Adding statename"
   ]
  },
  {
   "cell_type": "code",
   "execution_count": 8,
   "id": "04e381f0-bd11-4ef2-82d9-2af2831ab88e",
   "metadata": {
    "ExecuteTime": {
     "end_time": "2023-10-12T12:41:47.351139530Z",
     "start_time": "2023-10-12T12:41:47.294193193Z"
    }
   },
   "outputs": [],
   "source": [
    "statename = {\n",
    "    '75': 'Paris',\n",
    "    '77': 'Seine-et-Marne',\n",
    "    '78': 'Yvelines',\n",
    "    '91': 'Essonne',\n",
    "    '92': 'Hauts-de-Seine',\n",
    "    '93': 'Seine-Saint-Denis',\n",
    "    '94': 'Val-de-Marne',\n",
    "    '95': \"Val-d'Oise\"\n",
    "}\n",
    "\n",
    "general['statename'] = general['state'].replace(statename,regex=True)"
   ]
  },
  {
   "cell_type": "markdown",
   "id": "a923efbe-16d6-4360-be80-6be462fe8836",
   "metadata": {},
   "source": [
    "'q' will be used for geocoding addresses"
   ]
  },
  {
   "cell_type": "code",
   "execution_count": 9,
   "id": "74b48b8a-65da-40d3-89b6-ad2587f4ee63",
   "metadata": {
    "ExecuteTime": {
     "end_time": "2023-10-12T12:41:48.060826178Z",
     "start_time": "2023-10-12T12:41:47.783688959Z"
    }
   },
   "outputs": [],
   "source": [
    "q_cols = [\n",
    "    'Numéro Voie (coord. structure)', 'Indice répétition voie (coord. structure)', 'Libellé type de voie (coord. structure)',\n",
    "    'Libellé Voie (coord. structure)', 'Bureau cedex (coord. structure)', 'statename'\n",
    "]\n",
    "\n",
    "general['q'] = general[q_cols].stack().groupby(level=0).agg(' '.join)\n"
   ]
  },
  {
   "cell_type": "markdown",
   "id": "f3b7f64c-0157-4f2e-9ace-696a0855bc27",
   "metadata": {},
   "source": [
    "Keeping only necessary columns"
   ]
  },
  {
   "cell_type": "code",
   "execution_count": 10,
   "id": "fa8c31ac",
   "metadata": {
    "ExecuteTime": {
     "end_time": "2023-10-12T12:41:48.422991707Z",
     "start_time": "2023-10-12T12:41:48.418239090Z"
    }
   },
   "outputs": [],
   "source": [
    "new_cols = ['Identification nationale PP', \"Nom d'exercice\", \"Prénom d'exercice\",\n",
    "              'Raison sociale site', 'Code commune (coord. structure)', 'state', 'q']\n",
    "\n",
    "general = general[new_cols]"
   ]
  },
  {
   "cell_type": "markdown",
   "id": "496b5b67-0a95-4ae1-9d28-25d559476ac1",
   "metadata": {},
   "source": [
    "Translate columns name"
   ]
  },
  {
   "cell_type": "code",
   "execution_count": 11,
   "id": "d4a4ca9c-e395-4f8c-a8f9-3f247db0067d",
   "metadata": {
    "ExecuteTime": {
     "end_time": "2023-10-12T12:41:48.855060946Z",
     "start_time": "2023-10-12T12:41:48.849324649Z"
    }
   },
   "outputs": [],
   "source": [
    "translation_dict = {\n",
    "    'Identification nationale PP': 'GPid',\n",
    "    \"Nom d'exercice\": \"lastname\",\n",
    "    \"Prénom d'exercice\": \"firstname\",\n",
    "    'Raison sociale site': 'name',\n",
    "    'Code commune (coord. structure)' : 'citycode'\n",
    "}\n",
    "\n",
    "general.rename(columns=translation_dict, inplace=True)"
   ]
  },
  {
   "cell_type": "markdown",
   "id": "d650abb3-8b5f-45fa-8596-80409134ff6a",
   "metadata": {},
   "source": [
    "Export to pickle"
   ]
  },
  {
   "cell_type": "code",
   "execution_count": 12,
   "id": "4deba7cd-0e05-4b34-9675-6f2553c1855e",
   "metadata": {
    "ExecuteTime": {
     "end_time": "2023-10-12T12:41:50.117298398Z",
     "start_time": "2023-10-12T12:41:50.090626644Z"
    }
   },
   "outputs": [],
   "source": [
    "general.reset_index(inplace=True,drop=True)\n",
    "file=\"data_bootcamp.pckl\"\n",
    "path = os.path.join(data_dir, 'GP_adress.csv')\n",
    "general.to_pickle(path)"
   ]
  },
  {
   "cell_type": "code",
   "execution_count": null,
   "id": "f8d744e204345d84",
   "metadata": {
    "collapsed": false,
    "jupyter": {
     "outputs_hidden": false
    }
   },
   "outputs": [],
   "source": []
  }
 ],
 "metadata": {
  "kernelspec": {
   "display_name": "Python 3 (ipykernel)",
   "language": "python",
   "name": "python3"
  },
  "language_info": {
   "codemirror_mode": {
    "name": "ipython",
    "version": 3
   },
   "file_extension": ".py",
   "mimetype": "text/x-python",
   "name": "python",
   "nbconvert_exporter": "python",
   "pygments_lexer": "ipython3",
   "version": "3.11.6"
  }
 },
 "nbformat": 4,
 "nbformat_minor": 5
}
